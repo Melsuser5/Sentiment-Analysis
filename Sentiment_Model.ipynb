{
  "nbformat": 4,
  "nbformat_minor": 0,
  "metadata": {
    "colab": {
      "provenance": []
    },
    "kernelspec": {
      "name": "python3",
      "display_name": "Python 3"
    },
    "language_info": {
      "name": "python"
    }
  },
  "cells": [
    {
      "cell_type": "code",
      "execution_count": null,
      "metadata": {
        "id": "VwAINWszWbn-"
      },
      "outputs": [],
      "source": [
        "#dependancies\n",
        "import numpy as np\n",
        "import pandas as pd\n",
        "from os import path\n",
        "import matplotlib.pyplot as plt\n",
        "from nltk.stem import WordNetLemmatizer\n",
        "from nltk.tokenize import word_tokenize\n",
        "from sklearn.feature_extraction.text import TfidfVectorizer\n",
        "import pickle\n",
        "import nltk\n",
        "nltk.download('punkt_tab')\n",
        "nltk.download('wordnet')"
      ]
    },
    {
      "cell_type": "code",
      "source": [
        "#define Data Pre-Processing\n",
        "def preprocess_text(text):\n",
        "    tokens = word_tokenize(text)\n",
        "    tokens = [WordNetLemmatizer().lemmatize(token) for token in tokens if token.isalpha()]\n",
        "    return \" \".join(tokens)\n",
        "\n",
        "with open('/content/drive/MyDrive/Text_Sentiment_Model/tfidf_vectorizer.pkl', 'rb') as file:\n",
        "    vectorizer = pickle.load(file)\n",
        "\n",
        "#import Data and apply pre-processing\n",
        "df_survey = pd.read_csv('/content/survey.csv')\n",
        "df_survey['text'] = df_survey['text'].astype(str).apply(lambda x: x.lower())\n",
        "predict_text = df_survey['text'].astype(str).apply(lambda x: x.lower())\n",
        "predict_text = df_survey['text'].apply(preprocess_text)\n",
        "\n",
        "\n",
        "predict = vectorizer.transform(predict_text)\n",
        "#import and run SVM Model\n",
        "loaded_model = pickle.load(open('/content/drive/MyDrive/Text_Sentiment_Model/svm_model.pkl', 'rb'))\n",
        "prediction = loaded_model.predict(predict)\n",
        "#attach predictions to data\n",
        "df_survey['label'] = prediction\n",
        "df_survey.to_csv('survey_with_labels.csv', index=False)"
      ],
      "metadata": {
        "id": "oMzFHI91W6Bq"
      },
      "execution_count": null,
      "outputs": []
    }
  ]
}